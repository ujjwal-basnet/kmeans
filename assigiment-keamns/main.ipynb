{
 "cells": [
  {
   "cell_type": "code",
   "execution_count": 225,
   "metadata": {},
   "outputs": [],
   "source": [
    "import pandas as pd \n",
    "import numpy as np"
   ]
  },
  {
   "cell_type": "code",
   "execution_count": 226,
   "metadata": {},
   "outputs": [
    {
     "data": {
      "text/plain": [
       "'/home/ujjwal/ujjwal/kmeans/assigiment-keamns'"
      ]
     },
     "execution_count": 226,
     "metadata": {},
     "output_type": "execute_result"
    }
   ],
   "source": [
    "pwd"
   ]
  },
  {
   "cell_type": "code",
   "execution_count": 227,
   "metadata": {},
   "outputs": [],
   "source": [
    "datasets = pd.read_csv('../data/IPL_Ball_by_Ball_2008_2022.csv')"
   ]
  },
  {
   "cell_type": "code",
   "execution_count": 228,
   "metadata": {},
   "outputs": [
    {
     "data": {
      "text/plain": [
       "(225954, 17)"
      ]
     },
     "execution_count": 228,
     "metadata": {},
     "output_type": "execute_result"
    }
   ],
   "source": [
    "datasets.shape"
   ]
  },
  {
   "cell_type": "code",
   "execution_count": 229,
   "metadata": {},
   "outputs": [
    {
     "data": {
      "text/html": [
       "<div>\n",
       "<style scoped>\n",
       "    .dataframe tbody tr th:only-of-type {\n",
       "        vertical-align: middle;\n",
       "    }\n",
       "\n",
       "    .dataframe tbody tr th {\n",
       "        vertical-align: top;\n",
       "    }\n",
       "\n",
       "    .dataframe thead th {\n",
       "        text-align: right;\n",
       "    }\n",
       "</style>\n",
       "<table border=\"1\" class=\"dataframe\">\n",
       "  <thead>\n",
       "    <tr style=\"text-align: right;\">\n",
       "      <th></th>\n",
       "      <th>ID</th>\n",
       "      <th>innings</th>\n",
       "      <th>overs</th>\n",
       "      <th>ballnumber</th>\n",
       "      <th>batter</th>\n",
       "      <th>bowler</th>\n",
       "      <th>non-striker</th>\n",
       "      <th>extra_type</th>\n",
       "      <th>batsman_run</th>\n",
       "      <th>extras_run</th>\n",
       "      <th>total_run</th>\n",
       "      <th>non_boundary</th>\n",
       "      <th>isWicketDelivery</th>\n",
       "      <th>player_out</th>\n",
       "      <th>kind</th>\n",
       "      <th>fielders_involved</th>\n",
       "      <th>BattingTeam</th>\n",
       "    </tr>\n",
       "  </thead>\n",
       "  <tbody>\n",
       "    <tr>\n",
       "      <th>225951</th>\n",
       "      <td>335982</td>\n",
       "      <td>2</td>\n",
       "      <td>14</td>\n",
       "      <td>7</td>\n",
       "      <td>P Kumar</td>\n",
       "      <td>I Sharma</td>\n",
       "      <td>SB Joshi</td>\n",
       "      <td>NaN</td>\n",
       "      <td>0</td>\n",
       "      <td>0</td>\n",
       "      <td>0</td>\n",
       "      <td>0</td>\n",
       "      <td>0</td>\n",
       "      <td>NaN</td>\n",
       "      <td>NaN</td>\n",
       "      <td>NaN</td>\n",
       "      <td>Royal Challengers Bangalore</td>\n",
       "    </tr>\n",
       "    <tr>\n",
       "      <th>225952</th>\n",
       "      <td>335982</td>\n",
       "      <td>2</td>\n",
       "      <td>15</td>\n",
       "      <td>1</td>\n",
       "      <td>SB Joshi</td>\n",
       "      <td>LR Shukla</td>\n",
       "      <td>P Kumar</td>\n",
       "      <td>wides</td>\n",
       "      <td>0</td>\n",
       "      <td>1</td>\n",
       "      <td>1</td>\n",
       "      <td>0</td>\n",
       "      <td>0</td>\n",
       "      <td>NaN</td>\n",
       "      <td>NaN</td>\n",
       "      <td>NaN</td>\n",
       "      <td>Royal Challengers Bangalore</td>\n",
       "    </tr>\n",
       "    <tr>\n",
       "      <th>225953</th>\n",
       "      <td>335982</td>\n",
       "      <td>2</td>\n",
       "      <td>15</td>\n",
       "      <td>2</td>\n",
       "      <td>SB Joshi</td>\n",
       "      <td>LR Shukla</td>\n",
       "      <td>P Kumar</td>\n",
       "      <td>NaN</td>\n",
       "      <td>0</td>\n",
       "      <td>0</td>\n",
       "      <td>0</td>\n",
       "      <td>0</td>\n",
       "      <td>1</td>\n",
       "      <td>SB Joshi</td>\n",
       "      <td>caught</td>\n",
       "      <td>BB McCullum</td>\n",
       "      <td>Royal Challengers Bangalore</td>\n",
       "    </tr>\n",
       "  </tbody>\n",
       "</table>\n",
       "</div>"
      ],
      "text/plain": [
       "            ID  innings  overs  ballnumber    batter     bowler non-striker  \\\n",
       "225951  335982        2     14           7   P Kumar   I Sharma    SB Joshi   \n",
       "225952  335982        2     15           1  SB Joshi  LR Shukla     P Kumar   \n",
       "225953  335982        2     15           2  SB Joshi  LR Shukla     P Kumar   \n",
       "\n",
       "       extra_type  batsman_run  extras_run  total_run  non_boundary  \\\n",
       "225951        NaN            0           0          0             0   \n",
       "225952      wides            0           1          1             0   \n",
       "225953        NaN            0           0          0             0   \n",
       "\n",
       "        isWicketDelivery player_out    kind fielders_involved  \\\n",
       "225951                 0        NaN     NaN               NaN   \n",
       "225952                 0        NaN     NaN               NaN   \n",
       "225953                 1   SB Joshi  caught       BB McCullum   \n",
       "\n",
       "                        BattingTeam  \n",
       "225951  Royal Challengers Bangalore  \n",
       "225952  Royal Challengers Bangalore  \n",
       "225953  Royal Challengers Bangalore  "
      ]
     },
     "execution_count": 229,
     "metadata": {},
     "output_type": "execute_result"
    }
   ],
   "source": [
    "datasets.tail(3)"
   ]
  },
  {
   "cell_type": "code",
   "execution_count": 230,
   "metadata": {},
   "outputs": [
    {
     "data": {
      "text/plain": [
       "Index(['ID', 'innings', 'overs', 'ballnumber', 'batter', 'bowler',\n",
       "       'non-striker', 'extra_type', 'batsman_run', 'extras_run', 'total_run',\n",
       "       'non_boundary', 'isWicketDelivery', 'player_out', 'kind',\n",
       "       'fielders_involved', 'BattingTeam'],\n",
       "      dtype='object')"
      ]
     },
     "execution_count": 230,
     "metadata": {},
     "output_type": "execute_result"
    }
   ],
   "source": [
    "datasets.columns"
   ]
  },
  {
   "cell_type": "code",
   "execution_count": 231,
   "metadata": {},
   "outputs": [],
   "source": [
    "df = datasets.drop('ID' , axis= 1 )"
   ]
  },
  {
   "cell_type": "code",
   "execution_count": 232,
   "metadata": {},
   "outputs": [],
   "source": [
    "df = df.reset_index()"
   ]
  },
  {
   "cell_type": "code",
   "execution_count": 233,
   "metadata": {},
   "outputs": [
    {
     "data": {
      "text/plain": [
       "Index(['V Kohli', 'S Dhawan', 'RG Sharma', 'DA Warner', 'SK Raina',\n",
       "       'RV Uthappa', 'MS Dhoni', 'G Gambhir', 'CH Gayle', 'AB de Villiers',\n",
       "       ...\n",
       "       'PN Mankad', 'C Nanda', 'Yash Dayal', 'DP Vijaykumar', 'Sunny Gupta',\n",
       "       'S Lamichhane', 'JL Denly', 'NJ Rimmington', 'Y Prithvi Raj',\n",
       "       'V Pratap Singh'],\n",
       "      dtype='object', name='batter', length=605)"
      ]
     },
     "execution_count": 233,
     "metadata": {},
     "output_type": "execute_result"
    }
   ],
   "source": [
    "df['batter'].value_counts().index \n",
    "#Their are 605 batter from where we are removing batsman who had played less than 100 balls "
   ]
  },
  {
   "cell_type": "code",
   "execution_count": 234,
   "metadata": {},
   "outputs": [
    {
     "data": {
      "text/plain": [
       "batter\n",
       "V Kohli            True\n",
       "S Dhawan           True\n",
       "RG Sharma          True\n",
       "DA Warner          True\n",
       "SK Raina           True\n",
       "                  ...  \n",
       "S Lamichhane      False\n",
       "JL Denly          False\n",
       "NJ Rimmington     False\n",
       "Y Prithvi Raj     False\n",
       "V Pratap Singh    False\n",
       "Name: count, Length: 605, dtype: bool"
      ]
     },
     "execution_count": 234,
     "metadata": {},
     "output_type": "execute_result"
    }
   ],
   "source": [
    "df['batter'].value_counts()  > 100"
   ]
  },
  {
   "cell_type": "code",
   "execution_count": 235,
   "metadata": {},
   "outputs": [],
   "source": [
    "eligiable_batter = df['batter'].value_counts()[df['batter'].value_counts() > 100 ].index"
   ]
  },
  {
   "cell_type": "code",
   "execution_count": 236,
   "metadata": {},
   "outputs": [
    {
     "data": {
      "text/plain": [
       "Index(['V Kohli', 'S Dhawan', 'RG Sharma', 'DA Warner', 'SK Raina',\n",
       "       'RV Uthappa', 'MS Dhoni', 'G Gambhir', 'CH Gayle', 'AB de Villiers',\n",
       "       ...\n",
       "       'SE Rutherford', 'RJ Quiney', 'UT Khawaja', 'AB McDonald', 'DJ Harris',\n",
       "       'SL Malinga', 'B Lee', 'DJM Short', 'RD Chahar', 'DJ Jacobs'],\n",
       "      dtype='object', name='batter', length=265)"
      ]
     },
     "execution_count": 236,
     "metadata": {},
     "output_type": "execute_result"
    }
   ],
   "source": [
    "eligiable_batter"
   ]
  },
  {
   "cell_type": "code",
   "execution_count": 237,
   "metadata": {},
   "outputs": [
    {
     "data": {
      "text/html": [
       "<div>\n",
       "<style scoped>\n",
       "    .dataframe tbody tr th:only-of-type {\n",
       "        vertical-align: middle;\n",
       "    }\n",
       "\n",
       "    .dataframe tbody tr th {\n",
       "        vertical-align: top;\n",
       "    }\n",
       "\n",
       "    .dataframe thead th {\n",
       "        text-align: right;\n",
       "    }\n",
       "</style>\n",
       "<table border=\"1\" class=\"dataframe\">\n",
       "  <thead>\n",
       "    <tr style=\"text-align: right;\">\n",
       "      <th></th>\n",
       "      <th>index</th>\n",
       "      <th>innings</th>\n",
       "      <th>overs</th>\n",
       "      <th>ballnumber</th>\n",
       "      <th>batter</th>\n",
       "      <th>bowler</th>\n",
       "      <th>non-striker</th>\n",
       "      <th>extra_type</th>\n",
       "      <th>batsman_run</th>\n",
       "      <th>extras_run</th>\n",
       "      <th>total_run</th>\n",
       "      <th>non_boundary</th>\n",
       "      <th>isWicketDelivery</th>\n",
       "      <th>player_out</th>\n",
       "      <th>kind</th>\n",
       "      <th>fielders_involved</th>\n",
       "      <th>BattingTeam</th>\n",
       "    </tr>\n",
       "  </thead>\n",
       "  <tbody>\n",
       "    <tr>\n",
       "      <th>0</th>\n",
       "      <td>0</td>\n",
       "      <td>1</td>\n",
       "      <td>0</td>\n",
       "      <td>1</td>\n",
       "      <td>YBK Jaiswal</td>\n",
       "      <td>Mohammed Shami</td>\n",
       "      <td>JC Buttler</td>\n",
       "      <td>NaN</td>\n",
       "      <td>0</td>\n",
       "      <td>0</td>\n",
       "      <td>0</td>\n",
       "      <td>0</td>\n",
       "      <td>0</td>\n",
       "      <td>NaN</td>\n",
       "      <td>NaN</td>\n",
       "      <td>NaN</td>\n",
       "      <td>Rajasthan Royals</td>\n",
       "    </tr>\n",
       "    <tr>\n",
       "      <th>1</th>\n",
       "      <td>1</td>\n",
       "      <td>1</td>\n",
       "      <td>0</td>\n",
       "      <td>2</td>\n",
       "      <td>YBK Jaiswal</td>\n",
       "      <td>Mohammed Shami</td>\n",
       "      <td>JC Buttler</td>\n",
       "      <td>legbyes</td>\n",
       "      <td>0</td>\n",
       "      <td>1</td>\n",
       "      <td>1</td>\n",
       "      <td>0</td>\n",
       "      <td>0</td>\n",
       "      <td>NaN</td>\n",
       "      <td>NaN</td>\n",
       "      <td>NaN</td>\n",
       "      <td>Rajasthan Royals</td>\n",
       "    </tr>\n",
       "    <tr>\n",
       "      <th>2</th>\n",
       "      <td>2</td>\n",
       "      <td>1</td>\n",
       "      <td>0</td>\n",
       "      <td>3</td>\n",
       "      <td>JC Buttler</td>\n",
       "      <td>Mohammed Shami</td>\n",
       "      <td>YBK Jaiswal</td>\n",
       "      <td>NaN</td>\n",
       "      <td>1</td>\n",
       "      <td>0</td>\n",
       "      <td>1</td>\n",
       "      <td>0</td>\n",
       "      <td>0</td>\n",
       "      <td>NaN</td>\n",
       "      <td>NaN</td>\n",
       "      <td>NaN</td>\n",
       "      <td>Rajasthan Royals</td>\n",
       "    </tr>\n",
       "    <tr>\n",
       "      <th>3</th>\n",
       "      <td>3</td>\n",
       "      <td>1</td>\n",
       "      <td>0</td>\n",
       "      <td>4</td>\n",
       "      <td>YBK Jaiswal</td>\n",
       "      <td>Mohammed Shami</td>\n",
       "      <td>JC Buttler</td>\n",
       "      <td>NaN</td>\n",
       "      <td>0</td>\n",
       "      <td>0</td>\n",
       "      <td>0</td>\n",
       "      <td>0</td>\n",
       "      <td>0</td>\n",
       "      <td>NaN</td>\n",
       "      <td>NaN</td>\n",
       "      <td>NaN</td>\n",
       "      <td>Rajasthan Royals</td>\n",
       "    </tr>\n",
       "    <tr>\n",
       "      <th>4</th>\n",
       "      <td>4</td>\n",
       "      <td>1</td>\n",
       "      <td>0</td>\n",
       "      <td>5</td>\n",
       "      <td>YBK Jaiswal</td>\n",
       "      <td>Mohammed Shami</td>\n",
       "      <td>JC Buttler</td>\n",
       "      <td>NaN</td>\n",
       "      <td>0</td>\n",
       "      <td>0</td>\n",
       "      <td>0</td>\n",
       "      <td>0</td>\n",
       "      <td>0</td>\n",
       "      <td>NaN</td>\n",
       "      <td>NaN</td>\n",
       "      <td>NaN</td>\n",
       "      <td>Rajasthan Royals</td>\n",
       "    </tr>\n",
       "    <tr>\n",
       "      <th>...</th>\n",
       "      <td>...</td>\n",
       "      <td>...</td>\n",
       "      <td>...</td>\n",
       "      <td>...</td>\n",
       "      <td>...</td>\n",
       "      <td>...</td>\n",
       "      <td>...</td>\n",
       "      <td>...</td>\n",
       "      <td>...</td>\n",
       "      <td>...</td>\n",
       "      <td>...</td>\n",
       "      <td>...</td>\n",
       "      <td>...</td>\n",
       "      <td>...</td>\n",
       "      <td>...</td>\n",
       "      <td>...</td>\n",
       "      <td>...</td>\n",
       "    </tr>\n",
       "    <tr>\n",
       "      <th>225949</th>\n",
       "      <td>225949</td>\n",
       "      <td>2</td>\n",
       "      <td>14</td>\n",
       "      <td>5</td>\n",
       "      <td>P Kumar</td>\n",
       "      <td>I Sharma</td>\n",
       "      <td>SB Joshi</td>\n",
       "      <td>legbyes</td>\n",
       "      <td>0</td>\n",
       "      <td>1</td>\n",
       "      <td>1</td>\n",
       "      <td>0</td>\n",
       "      <td>0</td>\n",
       "      <td>NaN</td>\n",
       "      <td>NaN</td>\n",
       "      <td>NaN</td>\n",
       "      <td>Royal Challengers Bangalore</td>\n",
       "    </tr>\n",
       "    <tr>\n",
       "      <th>225950</th>\n",
       "      <td>225950</td>\n",
       "      <td>2</td>\n",
       "      <td>14</td>\n",
       "      <td>6</td>\n",
       "      <td>SB Joshi</td>\n",
       "      <td>I Sharma</td>\n",
       "      <td>P Kumar</td>\n",
       "      <td>NaN</td>\n",
       "      <td>1</td>\n",
       "      <td>0</td>\n",
       "      <td>1</td>\n",
       "      <td>0</td>\n",
       "      <td>0</td>\n",
       "      <td>NaN</td>\n",
       "      <td>NaN</td>\n",
       "      <td>NaN</td>\n",
       "      <td>Royal Challengers Bangalore</td>\n",
       "    </tr>\n",
       "    <tr>\n",
       "      <th>225951</th>\n",
       "      <td>225951</td>\n",
       "      <td>2</td>\n",
       "      <td>14</td>\n",
       "      <td>7</td>\n",
       "      <td>P Kumar</td>\n",
       "      <td>I Sharma</td>\n",
       "      <td>SB Joshi</td>\n",
       "      <td>NaN</td>\n",
       "      <td>0</td>\n",
       "      <td>0</td>\n",
       "      <td>0</td>\n",
       "      <td>0</td>\n",
       "      <td>0</td>\n",
       "      <td>NaN</td>\n",
       "      <td>NaN</td>\n",
       "      <td>NaN</td>\n",
       "      <td>Royal Challengers Bangalore</td>\n",
       "    </tr>\n",
       "    <tr>\n",
       "      <th>225952</th>\n",
       "      <td>225952</td>\n",
       "      <td>2</td>\n",
       "      <td>15</td>\n",
       "      <td>1</td>\n",
       "      <td>SB Joshi</td>\n",
       "      <td>LR Shukla</td>\n",
       "      <td>P Kumar</td>\n",
       "      <td>wides</td>\n",
       "      <td>0</td>\n",
       "      <td>1</td>\n",
       "      <td>1</td>\n",
       "      <td>0</td>\n",
       "      <td>0</td>\n",
       "      <td>NaN</td>\n",
       "      <td>NaN</td>\n",
       "      <td>NaN</td>\n",
       "      <td>Royal Challengers Bangalore</td>\n",
       "    </tr>\n",
       "    <tr>\n",
       "      <th>225953</th>\n",
       "      <td>225953</td>\n",
       "      <td>2</td>\n",
       "      <td>15</td>\n",
       "      <td>2</td>\n",
       "      <td>SB Joshi</td>\n",
       "      <td>LR Shukla</td>\n",
       "      <td>P Kumar</td>\n",
       "      <td>NaN</td>\n",
       "      <td>0</td>\n",
       "      <td>0</td>\n",
       "      <td>0</td>\n",
       "      <td>0</td>\n",
       "      <td>1</td>\n",
       "      <td>SB Joshi</td>\n",
       "      <td>caught</td>\n",
       "      <td>BB McCullum</td>\n",
       "      <td>Royal Challengers Bangalore</td>\n",
       "    </tr>\n",
       "  </tbody>\n",
       "</table>\n",
       "<p>225954 rows × 17 columns</p>\n",
       "</div>"
      ],
      "text/plain": [
       "         index  innings  overs  ballnumber       batter          bowler  \\\n",
       "0            0        1      0           1  YBK Jaiswal  Mohammed Shami   \n",
       "1            1        1      0           2  YBK Jaiswal  Mohammed Shami   \n",
       "2            2        1      0           3   JC Buttler  Mohammed Shami   \n",
       "3            3        1      0           4  YBK Jaiswal  Mohammed Shami   \n",
       "4            4        1      0           5  YBK Jaiswal  Mohammed Shami   \n",
       "...        ...      ...    ...         ...          ...             ...   \n",
       "225949  225949        2     14           5      P Kumar        I Sharma   \n",
       "225950  225950        2     14           6     SB Joshi        I Sharma   \n",
       "225951  225951        2     14           7      P Kumar        I Sharma   \n",
       "225952  225952        2     15           1     SB Joshi       LR Shukla   \n",
       "225953  225953        2     15           2     SB Joshi       LR Shukla   \n",
       "\n",
       "        non-striker extra_type  batsman_run  extras_run  total_run  \\\n",
       "0        JC Buttler        NaN            0           0          0   \n",
       "1        JC Buttler    legbyes            0           1          1   \n",
       "2       YBK Jaiswal        NaN            1           0          1   \n",
       "3        JC Buttler        NaN            0           0          0   \n",
       "4        JC Buttler        NaN            0           0          0   \n",
       "...             ...        ...          ...         ...        ...   \n",
       "225949     SB Joshi    legbyes            0           1          1   \n",
       "225950      P Kumar        NaN            1           0          1   \n",
       "225951     SB Joshi        NaN            0           0          0   \n",
       "225952      P Kumar      wides            0           1          1   \n",
       "225953      P Kumar        NaN            0           0          0   \n",
       "\n",
       "        non_boundary  isWicketDelivery player_out    kind fielders_involved  \\\n",
       "0                  0                 0        NaN     NaN               NaN   \n",
       "1                  0                 0        NaN     NaN               NaN   \n",
       "2                  0                 0        NaN     NaN               NaN   \n",
       "3                  0                 0        NaN     NaN               NaN   \n",
       "4                  0                 0        NaN     NaN               NaN   \n",
       "...              ...               ...        ...     ...               ...   \n",
       "225949             0                 0        NaN     NaN               NaN   \n",
       "225950             0                 0        NaN     NaN               NaN   \n",
       "225951             0                 0        NaN     NaN               NaN   \n",
       "225952             0                 0        NaN     NaN               NaN   \n",
       "225953             0                 1   SB Joshi  caught       BB McCullum   \n",
       "\n",
       "                        BattingTeam  \n",
       "0                  Rajasthan Royals  \n",
       "1                  Rajasthan Royals  \n",
       "2                  Rajasthan Royals  \n",
       "3                  Rajasthan Royals  \n",
       "4                  Rajasthan Royals  \n",
       "...                             ...  \n",
       "225949  Royal Challengers Bangalore  \n",
       "225950  Royal Challengers Bangalore  \n",
       "225951  Royal Challengers Bangalore  \n",
       "225952  Royal Challengers Bangalore  \n",
       "225953  Royal Challengers Bangalore  \n",
       "\n",
       "[225954 rows x 17 columns]"
      ]
     },
     "execution_count": 237,
     "metadata": {},
     "output_type": "execute_result"
    }
   ],
   "source": [
    "df"
   ]
  },
  {
   "cell_type": "code",
   "execution_count": 238,
   "metadata": {},
   "outputs": [
    {
     "data": {
      "text/plain": [
       "0          True\n",
       "1          True\n",
       "2          True\n",
       "3          True\n",
       "4          True\n",
       "          ...  \n",
       "225949     True\n",
       "225950    False\n",
       "225951     True\n",
       "225952    False\n",
       "225953    False\n",
       "Name: batter, Length: 225954, dtype: bool"
      ]
     },
     "execution_count": 238,
     "metadata": {},
     "output_type": "execute_result"
    }
   ],
   "source": [
    "\n",
    "df['batter'].isin(eligiable_batter)"
   ]
  },
  {
   "cell_type": "code",
   "execution_count": 239,
   "metadata": {},
   "outputs": [
    {
     "data": {
      "text/html": [
       "<div>\n",
       "<style scoped>\n",
       "    .dataframe tbody tr th:only-of-type {\n",
       "        vertical-align: middle;\n",
       "    }\n",
       "\n",
       "    .dataframe tbody tr th {\n",
       "        vertical-align: top;\n",
       "    }\n",
       "\n",
       "    .dataframe thead th {\n",
       "        text-align: right;\n",
       "    }\n",
       "</style>\n",
       "<table border=\"1\" class=\"dataframe\">\n",
       "  <thead>\n",
       "    <tr style=\"text-align: right;\">\n",
       "      <th></th>\n",
       "      <th>index</th>\n",
       "      <th>innings</th>\n",
       "      <th>overs</th>\n",
       "      <th>ballnumber</th>\n",
       "      <th>batter</th>\n",
       "      <th>bowler</th>\n",
       "      <th>non-striker</th>\n",
       "      <th>extra_type</th>\n",
       "      <th>batsman_run</th>\n",
       "      <th>extras_run</th>\n",
       "      <th>total_run</th>\n",
       "      <th>non_boundary</th>\n",
       "      <th>isWicketDelivery</th>\n",
       "      <th>player_out</th>\n",
       "      <th>kind</th>\n",
       "      <th>fielders_involved</th>\n",
       "      <th>BattingTeam</th>\n",
       "    </tr>\n",
       "  </thead>\n",
       "  <tbody>\n",
       "    <tr>\n",
       "      <th>0</th>\n",
       "      <td>0</td>\n",
       "      <td>1</td>\n",
       "      <td>0</td>\n",
       "      <td>1</td>\n",
       "      <td>YBK Jaiswal</td>\n",
       "      <td>Mohammed Shami</td>\n",
       "      <td>JC Buttler</td>\n",
       "      <td>NaN</td>\n",
       "      <td>0</td>\n",
       "      <td>0</td>\n",
       "      <td>0</td>\n",
       "      <td>0</td>\n",
       "      <td>0</td>\n",
       "      <td>NaN</td>\n",
       "      <td>NaN</td>\n",
       "      <td>NaN</td>\n",
       "      <td>Rajasthan Royals</td>\n",
       "    </tr>\n",
       "    <tr>\n",
       "      <th>1</th>\n",
       "      <td>1</td>\n",
       "      <td>1</td>\n",
       "      <td>0</td>\n",
       "      <td>2</td>\n",
       "      <td>YBK Jaiswal</td>\n",
       "      <td>Mohammed Shami</td>\n",
       "      <td>JC Buttler</td>\n",
       "      <td>legbyes</td>\n",
       "      <td>0</td>\n",
       "      <td>1</td>\n",
       "      <td>1</td>\n",
       "      <td>0</td>\n",
       "      <td>0</td>\n",
       "      <td>NaN</td>\n",
       "      <td>NaN</td>\n",
       "      <td>NaN</td>\n",
       "      <td>Rajasthan Royals</td>\n",
       "    </tr>\n",
       "    <tr>\n",
       "      <th>2</th>\n",
       "      <td>2</td>\n",
       "      <td>1</td>\n",
       "      <td>0</td>\n",
       "      <td>3</td>\n",
       "      <td>JC Buttler</td>\n",
       "      <td>Mohammed Shami</td>\n",
       "      <td>YBK Jaiswal</td>\n",
       "      <td>NaN</td>\n",
       "      <td>1</td>\n",
       "      <td>0</td>\n",
       "      <td>1</td>\n",
       "      <td>0</td>\n",
       "      <td>0</td>\n",
       "      <td>NaN</td>\n",
       "      <td>NaN</td>\n",
       "      <td>NaN</td>\n",
       "      <td>Rajasthan Royals</td>\n",
       "    </tr>\n",
       "    <tr>\n",
       "      <th>3</th>\n",
       "      <td>3</td>\n",
       "      <td>1</td>\n",
       "      <td>0</td>\n",
       "      <td>4</td>\n",
       "      <td>YBK Jaiswal</td>\n",
       "      <td>Mohammed Shami</td>\n",
       "      <td>JC Buttler</td>\n",
       "      <td>NaN</td>\n",
       "      <td>0</td>\n",
       "      <td>0</td>\n",
       "      <td>0</td>\n",
       "      <td>0</td>\n",
       "      <td>0</td>\n",
       "      <td>NaN</td>\n",
       "      <td>NaN</td>\n",
       "      <td>NaN</td>\n",
       "      <td>Rajasthan Royals</td>\n",
       "    </tr>\n",
       "    <tr>\n",
       "      <th>4</th>\n",
       "      <td>4</td>\n",
       "      <td>1</td>\n",
       "      <td>0</td>\n",
       "      <td>5</td>\n",
       "      <td>YBK Jaiswal</td>\n",
       "      <td>Mohammed Shami</td>\n",
       "      <td>JC Buttler</td>\n",
       "      <td>NaN</td>\n",
       "      <td>0</td>\n",
       "      <td>0</td>\n",
       "      <td>0</td>\n",
       "      <td>0</td>\n",
       "      <td>0</td>\n",
       "      <td>NaN</td>\n",
       "      <td>NaN</td>\n",
       "      <td>NaN</td>\n",
       "      <td>Rajasthan Royals</td>\n",
       "    </tr>\n",
       "    <tr>\n",
       "      <th>...</th>\n",
       "      <td>...</td>\n",
       "      <td>...</td>\n",
       "      <td>...</td>\n",
       "      <td>...</td>\n",
       "      <td>...</td>\n",
       "      <td>...</td>\n",
       "      <td>...</td>\n",
       "      <td>...</td>\n",
       "      <td>...</td>\n",
       "      <td>...</td>\n",
       "      <td>...</td>\n",
       "      <td>...</td>\n",
       "      <td>...</td>\n",
       "      <td>...</td>\n",
       "      <td>...</td>\n",
       "      <td>...</td>\n",
       "      <td>...</td>\n",
       "    </tr>\n",
       "    <tr>\n",
       "      <th>225942</th>\n",
       "      <td>225942</td>\n",
       "      <td>2</td>\n",
       "      <td>13</td>\n",
       "      <td>4</td>\n",
       "      <td>P Kumar</td>\n",
       "      <td>SC Ganguly</td>\n",
       "      <td>SB Joshi</td>\n",
       "      <td>NaN</td>\n",
       "      <td>0</td>\n",
       "      <td>0</td>\n",
       "      <td>0</td>\n",
       "      <td>0</td>\n",
       "      <td>0</td>\n",
       "      <td>NaN</td>\n",
       "      <td>NaN</td>\n",
       "      <td>NaN</td>\n",
       "      <td>Royal Challengers Bangalore</td>\n",
       "    </tr>\n",
       "    <tr>\n",
       "      <th>225943</th>\n",
       "      <td>225943</td>\n",
       "      <td>2</td>\n",
       "      <td>13</td>\n",
       "      <td>5</td>\n",
       "      <td>P Kumar</td>\n",
       "      <td>SC Ganguly</td>\n",
       "      <td>SB Joshi</td>\n",
       "      <td>NaN</td>\n",
       "      <td>0</td>\n",
       "      <td>0</td>\n",
       "      <td>0</td>\n",
       "      <td>0</td>\n",
       "      <td>0</td>\n",
       "      <td>NaN</td>\n",
       "      <td>NaN</td>\n",
       "      <td>NaN</td>\n",
       "      <td>Royal Challengers Bangalore</td>\n",
       "    </tr>\n",
       "    <tr>\n",
       "      <th>225944</th>\n",
       "      <td>225944</td>\n",
       "      <td>2</td>\n",
       "      <td>13</td>\n",
       "      <td>6</td>\n",
       "      <td>P Kumar</td>\n",
       "      <td>SC Ganguly</td>\n",
       "      <td>SB Joshi</td>\n",
       "      <td>NaN</td>\n",
       "      <td>6</td>\n",
       "      <td>0</td>\n",
       "      <td>6</td>\n",
       "      <td>0</td>\n",
       "      <td>0</td>\n",
       "      <td>NaN</td>\n",
       "      <td>NaN</td>\n",
       "      <td>NaN</td>\n",
       "      <td>Royal Challengers Bangalore</td>\n",
       "    </tr>\n",
       "    <tr>\n",
       "      <th>225949</th>\n",
       "      <td>225949</td>\n",
       "      <td>2</td>\n",
       "      <td>14</td>\n",
       "      <td>5</td>\n",
       "      <td>P Kumar</td>\n",
       "      <td>I Sharma</td>\n",
       "      <td>SB Joshi</td>\n",
       "      <td>legbyes</td>\n",
       "      <td>0</td>\n",
       "      <td>1</td>\n",
       "      <td>1</td>\n",
       "      <td>0</td>\n",
       "      <td>0</td>\n",
       "      <td>NaN</td>\n",
       "      <td>NaN</td>\n",
       "      <td>NaN</td>\n",
       "      <td>Royal Challengers Bangalore</td>\n",
       "    </tr>\n",
       "    <tr>\n",
       "      <th>225951</th>\n",
       "      <td>225951</td>\n",
       "      <td>2</td>\n",
       "      <td>14</td>\n",
       "      <td>7</td>\n",
       "      <td>P Kumar</td>\n",
       "      <td>I Sharma</td>\n",
       "      <td>SB Joshi</td>\n",
       "      <td>NaN</td>\n",
       "      <td>0</td>\n",
       "      <td>0</td>\n",
       "      <td>0</td>\n",
       "      <td>0</td>\n",
       "      <td>0</td>\n",
       "      <td>NaN</td>\n",
       "      <td>NaN</td>\n",
       "      <td>NaN</td>\n",
       "      <td>Royal Challengers Bangalore</td>\n",
       "    </tr>\n",
       "  </tbody>\n",
       "</table>\n",
       "<p>215697 rows × 17 columns</p>\n",
       "</div>"
      ],
      "text/plain": [
       "         index  innings  overs  ballnumber       batter          bowler  \\\n",
       "0            0        1      0           1  YBK Jaiswal  Mohammed Shami   \n",
       "1            1        1      0           2  YBK Jaiswal  Mohammed Shami   \n",
       "2            2        1      0           3   JC Buttler  Mohammed Shami   \n",
       "3            3        1      0           4  YBK Jaiswal  Mohammed Shami   \n",
       "4            4        1      0           5  YBK Jaiswal  Mohammed Shami   \n",
       "...        ...      ...    ...         ...          ...             ...   \n",
       "225942  225942        2     13           4      P Kumar      SC Ganguly   \n",
       "225943  225943        2     13           5      P Kumar      SC Ganguly   \n",
       "225944  225944        2     13           6      P Kumar      SC Ganguly   \n",
       "225949  225949        2     14           5      P Kumar        I Sharma   \n",
       "225951  225951        2     14           7      P Kumar        I Sharma   \n",
       "\n",
       "        non-striker extra_type  batsman_run  extras_run  total_run  \\\n",
       "0        JC Buttler        NaN            0           0          0   \n",
       "1        JC Buttler    legbyes            0           1          1   \n",
       "2       YBK Jaiswal        NaN            1           0          1   \n",
       "3        JC Buttler        NaN            0           0          0   \n",
       "4        JC Buttler        NaN            0           0          0   \n",
       "...             ...        ...          ...         ...        ...   \n",
       "225942     SB Joshi        NaN            0           0          0   \n",
       "225943     SB Joshi        NaN            0           0          0   \n",
       "225944     SB Joshi        NaN            6           0          6   \n",
       "225949     SB Joshi    legbyes            0           1          1   \n",
       "225951     SB Joshi        NaN            0           0          0   \n",
       "\n",
       "        non_boundary  isWicketDelivery player_out kind fielders_involved  \\\n",
       "0                  0                 0        NaN  NaN               NaN   \n",
       "1                  0                 0        NaN  NaN               NaN   \n",
       "2                  0                 0        NaN  NaN               NaN   \n",
       "3                  0                 0        NaN  NaN               NaN   \n",
       "4                  0                 0        NaN  NaN               NaN   \n",
       "...              ...               ...        ...  ...               ...   \n",
       "225942             0                 0        NaN  NaN               NaN   \n",
       "225943             0                 0        NaN  NaN               NaN   \n",
       "225944             0                 0        NaN  NaN               NaN   \n",
       "225949             0                 0        NaN  NaN               NaN   \n",
       "225951             0                 0        NaN  NaN               NaN   \n",
       "\n",
       "                        BattingTeam  \n",
       "0                  Rajasthan Royals  \n",
       "1                  Rajasthan Royals  \n",
       "2                  Rajasthan Royals  \n",
       "3                  Rajasthan Royals  \n",
       "4                  Rajasthan Royals  \n",
       "...                             ...  \n",
       "225942  Royal Challengers Bangalore  \n",
       "225943  Royal Challengers Bangalore  \n",
       "225944  Royal Challengers Bangalore  \n",
       "225949  Royal Challengers Bangalore  \n",
       "225951  Royal Challengers Bangalore  \n",
       "\n",
       "[215697 rows x 17 columns]"
      ]
     },
     "execution_count": 239,
     "metadata": {},
     "output_type": "execute_result"
    }
   ],
   "source": [
    "new_df = df[df['batter'].isin(eligiable_batter)]\n",
    "new_df"
   ]
  },
  {
   "cell_type": "code",
   "execution_count": 240,
   "metadata": {},
   "outputs": [
    {
     "name": "stdout",
     "output_type": "stream",
     "text": [
      "total runs is \n",
      "\n",
      " batter\n",
      "A Ashish Reddy      288\n",
      "A Badoni            173\n",
      "A Mishra            402\n",
      "A Symonds          1028\n",
      "AA Jhunjhunwala     235\n",
      "                   ... \n",
      "YBK Jaiswal         567\n",
      "YK Pathan          3385\n",
      "YV Takawale         207\n",
      "Yuvraj Singh       2884\n",
      "Z Khan              121\n",
      "Name: total_run, Length: 265, dtype: int64 \n",
      "\n",
      "\n",
      " batter\n",
      "A Ashish Reddy      15\n",
      "A Badoni             9\n",
      "A Mishra            30\n",
      "A Symonds           26\n",
      "AA Jhunjhunwala     14\n",
      "                  ... \n",
      "YBK Jaiswal         23\n",
      "YK Pathan          111\n",
      "YV Takawale          8\n",
      "Yuvraj Singh       109\n",
      "Z Khan              15\n",
      "Name: player_out, Length: 265, dtype: int64\n"
     ]
    }
   ],
   "source": [
    "#batting average  = totals runs / no of times out \n",
    "# total runs \n",
    "total_runs = new_df.groupby('batter')['total_run'].sum()\n",
    "print(\"total runs is \")\n",
    "\n",
    "print(f\"\\n {total_runs} \")\n",
    "\n",
    "no_of_times_out = new_df.groupby('batter')['player_out'].count()\n",
    "print(f\"\\n\\n {no_of_times_out}\")\n"
   ]
  },
  {
   "cell_type": "code",
   "execution_count": 241,
   "metadata": {},
   "outputs": [
    {
     "data": {
      "text/plain": [
       "batter\n",
       "A Ashish Reddy     19.200000\n",
       "A Badoni           19.222222\n",
       "A Mishra           13.400000\n",
       "A Symonds          39.538462\n",
       "AA Jhunjhunwala    16.785714\n",
       "                     ...    \n",
       "YBK Jaiswal        24.652174\n",
       "YK Pathan          30.495495\n",
       "YV Takawale        25.875000\n",
       "Yuvraj Singh       26.458716\n",
       "Z Khan              8.066667\n",
       "Length: 265, dtype: float64"
      ]
     },
     "execution_count": 241,
     "metadata": {},
     "output_type": "execute_result"
    }
   ],
   "source": [
    "batting_average  = total_runs / no_of_times_out \n",
    "batting_average"
   ]
  },
  {
   "cell_type": "code",
   "execution_count": 242,
   "metadata": {},
   "outputs": [
    {
     "data": {
      "text/plain": [
       "batter\n",
       "A Ashish Reddy     146.938776\n",
       "A Badoni           124.460432\n",
       "A Mishra            98.048780\n",
       "A Symonds          131.626120\n",
       "AA Jhunjhunwala    107.798165\n",
       "                      ...    \n",
       "YBK Jaiswal        138.292683\n",
       "YK Pathan          145.029991\n",
       "YV Takawale        113.114754\n",
       "Yuvraj Singh       130.675125\n",
       "Z Khan              85.815603\n",
       "Length: 265, dtype: float64"
      ]
     },
     "execution_count": 242,
     "metadata": {},
     "output_type": "execute_result"
    }
   ],
   "source": [
    "#calculate the  strike rate\n",
    "ball_faced = new_df.groupby('batter')['batter'].value_counts()\n",
    "#strike rate  = (total runs / ball faced ) * 100 |\n",
    "strike_rate = (total_runs / ball_faced) * 100\n",
    "strike_rate"
   ]
  },
  {
   "cell_type": "code",
   "execution_count": 243,
   "metadata": {},
   "outputs": [
    {
     "data": {
      "text/plain": [
       "pandas.core.series.Series"
      ]
     },
     "execution_count": 243,
     "metadata": {},
     "output_type": "execute_result"
    }
   ],
   "source": [
    "type(strike_rate)"
   ]
  },
  {
   "cell_type": "code",
   "execution_count": 244,
   "metadata": {},
   "outputs": [],
   "source": [
    "strike_rate_df = strike_rate.to_frame().reset_index().rename(columns={'index': 'Batsman', 0: 'StrikeRate'})"
   ]
  },
  {
   "cell_type": "code",
   "execution_count": 245,
   "metadata": {},
   "outputs": [],
   "source": [
    "batting_average_dff = batting_average.to_frame().reset_index(drop = True ) .rename(columns={0:'batting_average'})"
   ]
  },
  {
   "cell_type": "code",
   "execution_count": 246,
   "metadata": {},
   "outputs": [
    {
     "data": {
      "text/plain": [
       "(265, 3)"
      ]
     },
     "execution_count": 246,
     "metadata": {},
     "output_type": "execute_result"
    }
   ],
   "source": [
    "final_dff = pd.concat([strike_rate_df , batting_average_dff] , axis  = 1 )\n",
    "final_dff.shape\n"
   ]
  },
  {
   "cell_type": "code",
   "execution_count": 247,
   "metadata": {},
   "outputs": [],
   "source": [
    "#converting  into array \n",
    "X = final_dff.iloc[: , 1: ].values"
   ]
  },
  {
   "cell_type": "code",
   "execution_count": 248,
   "metadata": {},
   "outputs": [
    {
     "data": {
      "text/plain": [
       "Text(0.5, 1.0, 'IPL Batsman  ')"
      ]
     },
     "execution_count": 248,
     "metadata": {},
     "output_type": "execute_result"
    },
    {
     "data": {
      "image/png": "[encoded data removed]",
      "text/plain": [
       "<Figure size 640x480 with 1 Axes>"
      ]
     },
     "metadata": {},
     "output_type": "display_data"
    }
   ],
   "source": [
    "#plotting \n",
    "import matplotlib.pyplot as plt \n",
    "plt.scatter(X[: ,0 ] ,X[:  , 1 ])\n",
    "plt.xlabel(final_dff.columns[1])\n",
    "plt.ylabel(final_dff.columns[2])\n",
    "plt.title(\"IPL Batsman  \")"
   ]
  },
  {
   "cell_type": "code",
   "execution_count": 249,
   "metadata": {},
   "outputs": [],
   "source": [
    "#doing elbow method \n",
    "from sklearn.cluster import KMeans\n",
    "\n",
    "wcss = []\n",
    "for i in range(1 , 11):\n",
    "    kmeans = KMeans(n_init = 10 , n_clusters = i ) \n",
    "    kmeans.fit(X)\n",
    "    wcss.append(kmeans.inertia_)"
   ]
  },
  {
   "cell_type": "code",
   "execution_count": 250,
   "metadata": {},
   "outputs": [
    {
     "data": {
      "text/plain": [
       "[92791.9991615403,\n",
       " 46029.48899073945,\n",
       " 30053.38304764142,\n",
       " 22451.031926049633,\n",
       " 17856.03271457822,\n",
       " 15276.22047416016,\n",
       " 13188.742335504572,\n",
       " 11565.501532630224,\n",
       " 10305.82058602156,\n",
       " 9132.90143585043]"
      ]
     },
     "execution_count": 250,
     "metadata": {},
     "output_type": "execute_result"
    }
   ],
   "source": [
    "wcss"
   ]
  },
  {
   "cell_type": "code",
   "execution_count": 251,
   "metadata": {},
   "outputs": [
    {
     "data": {
      "text/plain": [
       "[<matplotlib.lines.Line2D at 0x7fc5701c3f50>]"
      ]
     },
     "execution_count": 251,
     "metadata": {},
     "output_type": "execute_result"
    },
    {
     "data": {
      "image/png": "[encoded data removed]",
      "text/plain": [
       "<Figure size 640x480 with 1 Axes>"
      ]
     },
     "metadata": {},
     "output_type": "display_data"
    }
   ],
   "source": [
    "plt.plot(wcss)"
   ]
  },
  {
   "cell_type": "code",
   "execution_count": 256,
   "metadata": {},
   "outputs": [],
   "source": [
    "kmeans = KMeans(n_init = 20 , n_clusters = 4 )"
   ]
  },
  {
   "cell_type": "code",
   "execution_count": 258,
   "metadata": {},
   "outputs": [
    {
     "data": {
      "text/plain": [
       "array([2, 3, 1, 0, 1, 3, 3, 2, 0, 0, 3, 3, 2, 0, 0, 3, 3, 3, 3, 3, 3, 0,\n",
       "       2, 0, 3, 3, 3, 1, 3, 0, 0, 0, 3, 2, 0, 0, 2, 3, 0, 3, 0, 1, 2, 2,\n",
       "       3, 1, 0, 3, 2, 2, 0, 0, 0, 3, 3, 3, 0, 3, 0, 3, 1, 3, 3, 3, 0, 0,\n",
       "       0, 1, 3, 1, 0, 3, 0, 3, 0, 3, 1, 3, 2, 3, 3, 2, 0, 3, 2, 3, 0, 3,\n",
       "       2, 2, 2, 0, 3, 1, 3, 3, 0, 0, 2, 3, 0, 0, 0, 1, 2, 1, 2, 3, 0, 0,\n",
       "       3, 0, 3, 0, 3, 0, 3, 1, 0, 0, 3, 3, 2, 3, 1, 1, 3, 3, 3, 0, 0, 0,\n",
       "       1, 3, 0, 2, 1, 0, 2, 3, 3, 3, 0, 2, 1, 1, 0, 0, 3, 3, 0, 3, 0, 3,\n",
       "       2, 1, 2, 0, 1, 1, 2, 3, 0, 1, 1, 3, 3, 1, 2, 3, 0, 2, 3, 1, 2, 0,\n",
       "       3, 3, 3, 3, 1, 3, 2, 3, 0, 3, 0, 0, 1, 0, 3, 0, 1, 1, 3, 0, 2, 2,\n",
       "       3, 1, 0, 2, 0, 3, 0, 0, 1, 3, 0, 0, 0, 1, 3, 0, 3, 0, 1, 1, 2, 0,\n",
       "       3, 0, 3, 2, 3, 1, 2, 0, 0, 0, 0, 3, 2, 3, 0, 3, 3, 3, 3, 3, 0, 1,\n",
       "       3, 3, 3, 0, 0, 1, 3, 1, 0, 2, 3, 3, 1, 1, 0, 3, 3, 3, 0, 2, 3, 0,\n",
       "       1], dtype=int32)"
      ]
     },
     "execution_count": 258,
     "metadata": {},
     "output_type": "execute_result"
    }
   ],
   "source": [
    "y_kmeans  = kmeans.fit_predict(X)\n",
    "y_kmeans"
   ]
  },
  {
   "cell_type": "code",
   "execution_count": 259,
   "metadata": {},
   "outputs": [
    {
     "data": {
      "text/plain": [
       "<matplotlib.collections.PathCollection at 0x7fc56364a890>"
      ]
     },
     "execution_count": 259,
     "metadata": {},
     "output_type": "execute_result"
    },
    {
     "data": {
      "image/png": "[encoded data removed]",
      "text/plain": [
       "<Figure size 640x480 with 1 Axes>"
      ]
     },
     "metadata": {},
     "output_type": "display_data"
    }
   ],
   "source": [
    "plt.scatter(X[y_kmeans == 0 , 0] , X[y_kmeans == 0 , 1 ] , s = 60  , c = 'red' , label = \"clustering 1 \")"
   ]
  },
  {
   "cell_type": "code",
   "execution_count": 260,
   "metadata": {},
   "outputs": [
    {
     "data": {
      "text/plain": [
       "<matplotlib.collections.PathCollection at 0x7fc56371db50>"
      ]
     },
     "execution_count": 260,
     "metadata": {},
     "output_type": "execute_result"
    },
    {
     "data": {
      "image/png": "[encoded data removed]",
      "text/plain": [
       "<Figure size 640x480 with 1 Axes>"
      ]
     },
     "metadata": {},
     "output_type": "display_data"
    }
   ],
   "source": [
    "plt.scatter(X[kmeans ==  1 , 0 ] , X[kmeans == 1 , 1 ])"
   ]
  },
  {
   "cell_type": "code",
   "execution_count": 261,
   "metadata": {},
   "outputs": [
    {
     "data": {
      "image/png": "[encoded data removed]",
      "text/plain": [
       "<Figure size 640x480 with 1 Axes>"
      ]
     },
     "metadata": {},
     "output_type": "display_data"
    }
   ],
   "source": [
    "plt.scatter(X[y_kmeans == 0, 0], X[y_kmeans == 0, 1], s = 60, c = 'red', label = 'Cluster1')\n",
    "plt.scatter(X[y_kmeans == 1, 0], X[y_kmeans == 1, 1], s = 60, c = 'blue', label = 'Cluster2')\n",
    "plt.scatter(X[y_kmeans == 2, 0], X[y_kmeans == 2, 1], s = 60, c = 'green', label = 'Cluster3')\n",
    "plt.scatter(X[y_kmeans == 3, 0], X[y_kmeans == 3, 1], s = 60, c = 'yellow', label = 'Cluster4')\n",
    "\n",
    "plt.legend()\n",
    "\n",
    "plt.show()\n"
   ]
  },
  {
   "cell_type": "code",
   "execution_count": null,
   "metadata": {},
   "outputs": [],
   "source": []
  }
 ],
 "metadata": {
  "kernelspec": {
   "display_name": "Python 3",
   "language": "python",
   "name": "python3"
  },
  "language_info": {
   "codemirror_mode": {
    "name": "ipython",
    "version": 3
   },
   "file_extension": ".py",
   "mimetype": "text/x-python",
   "name": "python",
   "nbconvert_exporter": "python",
   "pygments_lexer": "ipython3",
   "version": "3.11.7"
  }
 },
 "nbformat": 4,
 "nbformat_minor": 2
}
